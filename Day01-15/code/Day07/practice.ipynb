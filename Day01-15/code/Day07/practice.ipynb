{
 "cells": [
  {
   "cell_type": "code",
   "execution_count": 2,
   "metadata": {
    "collapsed": true,
    "ExecuteTime": {
     "end_time": "2023-08-06T04:07:23.291219900Z",
     "start_time": "2023-08-06T04:07:23.270217300Z"
    }
   },
   "outputs": [
    {
     "name": "stdout",
     "output_type": "stream",
     "text": [
      "hello hello hello \n",
      "hello hello hello world\n",
      "True\n",
      "False\n",
      "c\n",
      "c12\n",
      "c123456\n",
      "c246\n",
      "ac246\n",
      "654321cba\n",
      "45\n"
     ]
    }
   ],
   "source": [
    "s1 = 'hello ' * 3\n",
    "print(s1) # hello hello hello\n",
    "s2 = 'world'\n",
    "s1 += s2\n",
    "print(s1) # hello hello hello world\n",
    "print('ll' in s1) # True\n",
    "print('good' in s1) # False\n",
    "str2 = 'abc123456'\n",
    "# 从字符串中取出指定位置的字符(下标运算)\n",
    "print(str2[2]) # c\n",
    "# 字符串切片(从指定的开始索引到指定的结束索引)\n",
    "print(str2[2:5]) # c12\n",
    "print(str2[2:]) # c123456\n",
    "print(str2[2::2]) # c246\n",
    "print(str2[::2]) # ac246\n",
    "print(str2[::-1]) # 654321cba\n",
    "print(str2[-3:-1]) # 45"
   ]
  },
  {
   "cell_type": "code",
   "execution_count": 3,
   "outputs": [
    {
     "name": "stdout",
     "output_type": "stream",
     "text": [
      "['orange', 'apple', 'zoo', 'internationalization', 'blueberry']\n",
      "['apple', 'blueberry', 'internationalization', 'orange', 'zoo']\n",
      "['zoo', 'orange', 'internationalization', 'blueberry', 'apple']\n",
      "['zoo', 'apple', 'orange', 'blueberry', 'internationalization']\n",
      "['zoo', 'orange', 'internationalization', 'blueberry', 'apple']\n"
     ]
    }
   ],
   "source": [
    "list1 = ['orange', 'apple', 'zoo', 'internationalization', 'blueberry']\n",
    "list2 = sorted(list1)\n",
    "# sorted函数返回列表排序后的拷贝不会修改传入的列表\n",
    "# 函数的设计就应该像sorted函数一样尽可能不产生副作用\n",
    "list3 = sorted(list1, reverse=True)\n",
    "# 通过key关键字参数指定根据字符串长度进行排序而不是默认的字母表顺序\n",
    "list4 = sorted(list1, key=len)\n",
    "print(list1)\n",
    "print(list2)\n",
    "print(list3)\n",
    "print(list4)\n",
    "# 给列表对象发出排序消息直接在列表对象上进行排序\n",
    "list1.sort(reverse=True)\n",
    "print(list1)"
   ],
   "metadata": {
    "collapsed": false,
    "ExecuteTime": {
     "end_time": "2023-08-06T05:57:34.727714700Z",
     "start_time": "2023-08-06T05:57:34.678703800Z"
    }
   }
  },
  {
   "cell_type": "markdown",
   "source": [
    "练习\n",
    "练习1：在屏幕上显示跑马灯文字。"
   ],
   "metadata": {
    "collapsed": false
   }
  },
  {
   "cell_type": "code",
   "execution_count": 5,
   "outputs": [
    {
     "name": "stdout",
     "output_type": "stream",
     "text": [
      "我命由我不由天。。。。。。。。。。。。。。。。。。\n",
      "命由我不由天。。。。。。。。。。。。。。。。。。我\n",
      "由我不由天。。。。。。。。。。。。。。。。。。我命\n",
      "我不由天。。。。。。。。。。。。。。。。。。我命由\n",
      "不由天。。。。。。。。。。。。。。。。。。我命由我\n",
      "由天。。。。。。。。。。。。。。。。。。我命由我不\n",
      "天。。。。。。。。。。。。。。。。。。我命由我不由\n",
      "。。。。。。。。。。。。。。。。。。我命由我不由天\n",
      "。。。。。。。。。。。。。。。。。我命由我不由天。\n",
      "。。。。。。。。。。。。。。。。我命由我不由天。。\n",
      "。。。。。。。。。。。。。。。我命由我不由天。。。\n",
      "。。。。。。。。。。。。。。我命由我不由天。。。。\n",
      "。。。。。。。。。。。。。我命由我不由天。。。。。\n",
      "。。。。。。。。。。。。我命由我不由天。。。。。。\n",
      "。。。。。。。。。。。我命由我不由天。。。。。。。\n",
      "。。。。。。。。。。我命由我不由天。。。。。。。。\n",
      "。。。。。。。。。我命由我不由天。。。。。。。。。\n",
      "。。。。。。。。我命由我不由天。。。。。。。。。。\n",
      "。。。。。。。我命由我不由天。。。。。。。。。。。\n",
      "。。。。。。我命由我不由天。。。。。。。。。。。。\n",
      "。。。。。我命由我不由天。。。。。。。。。。。。。\n",
      "。。。。我命由我不由天。。。。。。。。。。。。。。\n",
      "。。。我命由我不由天。。。。。。。。。。。。。。。\n",
      "。。我命由我不由天。。。。。。。。。。。。。。。。\n",
      "。我命由我不由天。。。。。。。。。。。。。。。。。\n",
      "我命由我不由天。。。。。。。。。。。。。。。。。。\n",
      "命由我不由天。。。。。。。。。。。。。。。。。。我\n",
      "由我不由天。。。。。。。。。。。。。。。。。。我命\n",
      "我不由天。。。。。。。。。。。。。。。。。。我命由\n",
      "不由天。。。。。。。。。。。。。。。。。。我命由我\n",
      "由天。。。。。。。。。。。。。。。。。。我命由我不\n",
      "天。。。。。。。。。。。。。。。。。。我命由我不由\n",
      "。。。。。。。。。。。。。。。。。。我命由我不由天\n",
      "。。。。。。。。。。。。。。。。。我命由我不由天。\n",
      "。。。。。。。。。。。。。。。。我命由我不由天。。\n",
      "。。。。。。。。。。。。。。。我命由我不由天。。。\n",
      "。。。。。。。。。。。。。。我命由我不由天。。。。\n",
      "。。。。。。。。。。。。。我命由我不由天。。。。。\n",
      "。。。。。。。。。。。。我命由我不由天。。。。。。\n",
      "。。。。。。。。。。。我命由我不由天。。。。。。。\n",
      "。。。。。。。。。。我命由我不由天。。。。。。。。\n",
      "。。。。。。。。。我命由我不由天。。。。。。。。。\n",
      "。。。。。。。。我命由我不由天。。。。。。。。。。\n",
      "。。。。。。。我命由我不由天。。。。。。。。。。。\n",
      "。。。。。。我命由我不由天。。。。。。。。。。。。\n",
      "。。。。。我命由我不由天。。。。。。。。。。。。。\n",
      "。。。。我命由我不由天。。。。。。。。。。。。。。\n",
      "。。。我命由我不由天。。。。。。。。。。。。。。。\n",
      "。。我命由我不由天。。。。。。。。。。。。。。。。\n",
      "。我命由我不由天。。。。。。。。。。。。。。。。。\n",
      "我命由我不由天。。。。。。。。。。。。。。。。。。\n",
      "命由我不由天。。。。。。。。。。。。。。。。。。我\n",
      "由我不由天。。。。。。。。。。。。。。。。。。我命\n",
      "我不由天。。。。。。。。。。。。。。。。。。我命由\n",
      "不由天。。。。。。。。。。。。。。。。。。我命由我\n",
      "由天。。。。。。。。。。。。。。。。。。我命由我不\n",
      "天。。。。。。。。。。。。。。。。。。我命由我不由\n",
      "。。。。。。。。。。。。。。。。。。我命由我不由天\n",
      "。。。。。。。。。。。。。。。。。我命由我不由天。\n",
      "。。。。。。。。。。。。。。。。我命由我不由天。。\n",
      "。。。。。。。。。。。。。。。我命由我不由天。。。\n",
      "。。。。。。。。。。。。。。我命由我不由天。。。。\n",
      "。。。。。。。。。。。。。我命由我不由天。。。。。\n",
      "。。。。。。。。。。。。我命由我不由天。。。。。。\n",
      "。。。。。。。。。。。我命由我不由天。。。。。。。\n",
      "。。。。。。。。。。我命由我不由天。。。。。。。。\n",
      "。。。。。。。。。我命由我不由天。。。。。。。。。\n"
     ]
    },
    {
     "ename": "KeyboardInterrupt",
     "evalue": "",
     "output_type": "error",
     "traceback": [
      "\u001B[1;31m---------------------------------------------------------------------------\u001B[0m",
      "\u001B[1;31mKeyboardInterrupt\u001B[0m                         Traceback (most recent call last)",
      "Input \u001B[1;32mIn [5]\u001B[0m, in \u001B[0;36m<cell line: 7>\u001B[1;34m()\u001B[0m\n\u001B[0;32m      7\u001B[0m os\u001B[38;5;241m.\u001B[39msystem(\u001B[38;5;124m'\u001B[39m\u001B[38;5;124mcls\u001B[39m\u001B[38;5;124m'\u001B[39m)\n\u001B[0;32m      8\u001B[0m \u001B[38;5;28mprint\u001B[39m(content)\n\u001B[1;32m----> 9\u001B[0m \u001B[43mtime\u001B[49m\u001B[38;5;241;43m.\u001B[39;49m\u001B[43msleep\u001B[49m\u001B[43m(\u001B[49m\u001B[38;5;241;43m0.2\u001B[39;49m\u001B[43m)\u001B[49m\n\u001B[0;32m     10\u001B[0m content \u001B[38;5;241m=\u001B[39m content[\u001B[38;5;241m1\u001B[39m:] \u001B[38;5;241m+\u001B[39m content[\u001B[38;5;241m0\u001B[39m]\n",
      "\u001B[1;31mKeyboardInterrupt\u001B[0m: "
     ]
    }
   ],
   "source": [
    "import os\n",
    "import time\n",
    "\n",
    "content = '我命由我不由天。。。。。。。。。。。。。。。。。。'\n",
    "\n",
    "while True:\n",
    "    os.system('cls')\n",
    "    print(content)\n",
    "    time.sleep(0.2)\n",
    "    content = content[1:] + content[0]"
   ],
   "metadata": {
    "collapsed": false,
    "ExecuteTime": {
     "end_time": "2023-08-06T06:59:21.912080600Z",
     "start_time": "2023-08-06T06:59:07.167332500Z"
    }
   }
  },
  {
   "cell_type": "markdown",
   "source": [
    "练习2：设计一个函数产生指定长度的验证码，验证码由大小写字母和数字构成。\n"
   ],
   "metadata": {
    "collapsed": false
   }
  },
  {
   "cell_type": "code",
   "execution_count": 12,
   "outputs": [
    {
     "data": {
      "text/plain": "['U', 'o', '3', 'm']"
     },
     "execution_count": 12,
     "metadata": {},
     "output_type": "execute_result"
    }
   ],
   "source": [
    "import random\n",
    "\n",
    "\n",
    "def generate_code(code_len=4):\n",
    "    \"\"\"\n",
    "    生成指定长度的验证码\n",
    "\n",
    "    :param code_len: 验证码的长度(默认4个字符)\n",
    "\n",
    "    :return: 由大小写英文字母和数字构成的随机验证码\n",
    "    \"\"\"\n",
    "    all_chars = '0123456789abcdefghijklmnopqrstuvwxyzABCDEFGHIJKLMNOPQRSTUVWXYZ'\n",
    "\n",
    "    for _ in range(code_len):\n",
    "        v_code = random.choices(all_chars, k=code_len)\n",
    "    return v_code\n",
    "generate_code()"
   ],
   "metadata": {
    "collapsed": false,
    "ExecuteTime": {
     "end_time": "2023-08-06T07:03:12.341442900Z",
     "start_time": "2023-08-06T07:03:12.318317300Z"
    }
   }
  },
  {
   "cell_type": "markdown",
   "source": [
    "练习3：设计一个函数返回给定文件名的后缀名。"
   ],
   "metadata": {
    "collapsed": false
   }
  },
  {
   "cell_type": "code",
   "execution_count": 19,
   "outputs": [],
   "source": [
    "def get_suffix(filename, has_dot=False):\n",
    "    \"\"\"\n",
    "    获取文件名的后缀名\n",
    "\n",
    "    :param filename: 文件名\n",
    "    :param has_dot: 返回的后缀名是否需要带点\n",
    "    :return: 文件的后缀名\n",
    "    \"\"\"\n",
    "    # Reverse the given file name\n",
    "    rev = str(filename)[::-1]\n",
    "    # find the idx of the last dot\n",
    "    index_of_last_dot = rev.find('.')\n",
    "    # slice to get the suffix\n",
    "    if has_dot:\n",
    "        return rev[:index_of_last_dot+1][::-1]\n",
    "    else:\n",
    "        return rev[:index_of_last_dot][::-1]\n",
    "\n"
   ],
   "metadata": {
    "collapsed": false,
    "ExecuteTime": {
     "end_time": "2023-08-06T07:22:52.884293200Z",
     "start_time": "2023-08-06T07:22:52.867258800Z"
    }
   }
  },
  {
   "cell_type": "markdown",
   "source": [
    "练习4：设计一个函数返回传入的列表中最大和第二大的元素的值。"
   ],
   "metadata": {
    "collapsed": false
   }
  },
  {
   "cell_type": "code",
   "execution_count": 1,
   "outputs": [
    {
     "data": {
      "text/plain": "(20, 19)"
     },
     "execution_count": 1,
     "metadata": {},
     "output_type": "execute_result"
    }
   ],
   "source": [
    "def max2(x):\n",
    "    m1, m2 = (x[0], x[1]) if x[0] >= x[1] else (x[1], x[0])\n",
    "\n",
    "    for i in range(2,len(x)):\n",
    "        if m1 < x[i]:\n",
    "            m1, m2 = x[i], m1\n",
    "        elif m2 <= x[i]:\n",
    "            m2 = x[i]\n",
    "    return (m1, m2)\n",
    "\n",
    "max2(range(2,21))"
   ],
   "metadata": {
    "collapsed": false,
    "ExecuteTime": {
     "end_time": "2023-08-06T17:45:14.986264100Z",
     "start_time": "2023-08-06T17:45:14.962331700Z"
    }
   }
  },
  {
   "cell_type": "markdown",
   "source": [
    "练习5：计算指定的年月日是这一年的第几天。"
   ],
   "metadata": {
    "collapsed": false
   }
  },
  {
   "cell_type": "code",
   "execution_count": 6,
   "outputs": [
    {
     "name": "stdout",
     "output_type": "stream",
     "text": [
      "333\n",
      "365\n",
      "1\n",
      "61\n"
     ]
    }
   ],
   "source": [
    "def is_leap_year(year):\n",
    "    \"\"\"\n",
    "    判断指定的年份是不是闰年\n",
    "\n",
    "    :param year: 年份\n",
    "    :return: 闰年返回True平年返回False\n",
    "    \"\"\"\n",
    "    return year % 4 == 0 and year % 100 != 0 or year % 400 == 0\n",
    "\n",
    "\n",
    "def which_day(year, month, date):\n",
    "    \"\"\"\n",
    "    计算传入的日期是这一年的第几天\n",
    "\n",
    "    :param year: 年\n",
    "    :param month: 月\n",
    "    :param date: 日\n",
    "    :return: 第几天\n",
    "    \"\"\"\n",
    "    if is_leap_year(year):\n",
    "        days_of_month = [31, 29, 31, 30, 31, 30, 31, 31, 30, 31, 30, 31]\n",
    "    else:\n",
    "        days_of_month = [31, 28, 31, 30, 31, 30, 31, 31, 30, 31, 30, 31]\n",
    "    # past months' days added together\n",
    "    ttl = sum(days_of_month[:month-1])\n",
    "\n",
    "    return ttl + date\n",
    "\n",
    "def main():\n",
    "    print(which_day(1980, 11, 28))\n",
    "    print(which_day(1981, 12, 31))\n",
    "    print(which_day(2018, 1, 1))\n",
    "    print(which_day(2016, 3, 1))\n",
    "\n",
    "\n",
    "if __name__ == '__main__':\n",
    "    main()"
   ],
   "metadata": {
    "collapsed": false,
    "ExecuteTime": {
     "end_time": "2023-08-06T17:55:13.459284200Z",
     "start_time": "2023-08-06T17:55:13.396763100Z"
    }
   }
  },
  {
   "cell_type": "markdown",
   "source": [
    "练习6：打印杨辉三角。"
   ],
   "metadata": {
    "collapsed": false
   }
  },
  {
   "cell_type": "code",
   "execution_count": 52,
   "outputs": [],
   "source": [
    "from math import comb\n",
    "\n",
    "def pascal_tri(n):\n",
    "    \"\"\"\n",
    "    print the Pascal triangle of rank n\n",
    "\n",
    "    :param n: rank\n",
    "    \"\"\"\n",
    "\n",
    "    for idx in range(0, n+1):\n",
    "        if idx == 0:\n",
    "            _content_ = str(comb(idx, 0))\n",
    "            _content = \" \" * (n) + _content_ + \" \" * (n)\n",
    "            print(_content)\n",
    "        else:\n",
    "            _content_ = str([comb(idx, j) for j in range(0, idx+1)])\n",
    "            _content = \" \".join(_content_.replace(',', '').replace(']', \"\").replace('[', \"\"))\n",
    "            _content = \" \" * (n-idx) + _content + \" \" * (n-idx)\n",
    "            print(_content)\n",
    "\n",
    "\n"
   ],
   "metadata": {
    "collapsed": false,
    "ExecuteTime": {
     "end_time": "2023-08-06T19:00:05.950643Z",
     "start_time": "2023-08-06T19:00:05.911939400Z"
    }
   }
  },
  {
   "cell_type": "code",
   "execution_count": 51,
   "outputs": [
    {
     "name": "stdout",
     "output_type": "stream",
     "text": [
      "     1      \n",
      "    1   1    \n",
      "   1   2   1   \n",
      "  1   3   3   1  \n",
      " 1   4   6   4   1 \n",
      "1   5   1 0   1 0   5   1\n"
     ]
    }
   ],
   "source": [
    "pascal_tri(5)"
   ],
   "metadata": {
    "collapsed": false,
    "ExecuteTime": {
     "end_time": "2023-08-06T18:59:50.685624200Z",
     "start_time": "2023-08-06T18:59:50.669618200Z"
    }
   }
  },
  {
   "cell_type": "markdown",
   "source": [
    "案例1：双色球选号。"
   ],
   "metadata": {
    "collapsed": false
   }
  },
  {
   "cell_type": "code",
   "execution_count": 53,
   "outputs": [
    {
     "name": "stdout",
     "output_type": "stream",
     "text": [
      "01 12 20 21 31 33 | 11 \n"
     ]
    }
   ],
   "source": [
    "from random import randrange, randint, sample\n",
    "\n",
    "\n",
    "def display(balls):\n",
    "    \"\"\"\n",
    "    输出列表中的双色球号码\n",
    "    \"\"\"\n",
    "    for index, ball in enumerate(balls):\n",
    "        if index == len(balls) - 1:\n",
    "            print('|', end=' ')\n",
    "        print('%02d' % ball, end=' ')\n",
    "    print()\n",
    "\n",
    "\n",
    "def random_select():\n",
    "    \"\"\"\n",
    "    随机选择一组号码\n",
    "    \"\"\"\n",
    "    red_balls = [x for x in range(1, 34)]\n",
    "    selected_balls = []\n",
    "    selected_balls = sample(red_balls, 6)\n",
    "    selected_balls.sort()\n",
    "    selected_balls.append(randint(1, 16))\n",
    "    return selected_balls\n",
    "\n",
    "\n",
    "def main():\n",
    "    n = int(input('机选几注: '))\n",
    "    for _ in range(n):\n",
    "        display(random_select())\n",
    "\n",
    "\n",
    "if __name__ == '__main__':\n",
    "    main()"
   ],
   "metadata": {
    "collapsed": false,
    "ExecuteTime": {
     "end_time": "2023-08-06T19:02:30.086656700Z",
     "start_time": "2023-08-06T19:02:26.212352200Z"
    }
   }
  },
  {
   "cell_type": "markdown",
   "source": [
    "综合案例2：约瑟夫环问题。"
   ],
   "metadata": {
    "collapsed": false
   }
  },
  {
   "cell_type": "code",
   "execution_count": 58,
   "outputs": [
    {
     "name": "stdout",
     "output_type": "stream",
     "text": [
      "基基基基基基基基非基基基基基基基基非基基基基基基基基基基基基"
     ]
    }
   ],
   "source": [
    "\"\"\"\n",
    "《幸运的基督徒》\n",
    "有15个基督徒和15个非基督徒在海上遇险，为了能让一部分人活下来不得不将其中15个人扔到海里面去，有个人想了个办法就是大家围成一个圈，由某个人开始从1报数，报到9的人就扔到海里面，他后面的人接着从1开始报数，报到9的人继续扔到海里面，直到扔掉15个人。由于上帝的保佑，15个基督徒都幸免于难，问这些人最开始是怎么站的，哪些位置是基督徒哪些位置是非基督徒。\n",
    "\"\"\"\n",
    "\n",
    "\n",
    "def main():\n",
    "    persons = [True] * 30\n",
    "    counter, index, number = 0, 0, 0\n",
    "    while counter < 2:\n",
    "        if persons[index]:\n",
    "            number += 1\n",
    "            if number == 9:\n",
    "                persons[index] = False\n",
    "                counter += 1\n",
    "                number = 0\n",
    "        index += 1\n",
    "        index %= 30\n",
    "    for person in persons:\n",
    "        print('基' if person else '非', end='')\n",
    "\n",
    "\n",
    "if __name__ == '__main__':\n",
    "    main()"
   ],
   "metadata": {
    "collapsed": false,
    "ExecuteTime": {
     "end_time": "2023-08-06T20:55:24.214466200Z",
     "start_time": "2023-08-06T20:55:24.198104800Z"
    }
   }
  },
  {
   "cell_type": "markdown",
   "source": [
    "井字棋游戏。"
   ],
   "metadata": {
    "collapsed": false
   }
  },
  {
   "cell_type": "code",
   "execution_count": 66,
   "outputs": [
    {
     "name": "stdout",
     "output_type": "stream",
     "text": [
      " | | \n",
      "-+-+-\n",
      " | | \n",
      "-+-+-\n",
      " | | \n",
      " | | \n",
      "-+-+-\n",
      " |x| \n",
      "-+-+-\n",
      " | | \n",
      " | |o\n",
      "-+-+-\n",
      " |x| \n",
      "-+-+-\n",
      " | | \n",
      " |x|o\n",
      "-+-+-\n",
      " |x| \n",
      "-+-+-\n",
      " | | \n",
      " |x|o\n",
      "-+-+-\n",
      " |x| \n",
      "-+-+-\n",
      " | |o\n",
      " |x|o\n",
      "-+-+-\n",
      " |x| \n",
      "-+-+-\n",
      " |x|o\n",
      " |x|o\n",
      "-+-+-\n",
      " |x| \n",
      "-+-+-\n",
      " |x|o\n",
      "o|x|o\n",
      "-+-+-\n",
      " |x| \n",
      "-+-+-\n",
      " |x|o\n",
      "o|x|o\n",
      "-+-+-\n",
      "x|x| \n",
      "-+-+-\n",
      " |x|o\n",
      "o|x|o\n",
      "-+-+-\n",
      "x|x| \n",
      "-+-+-\n",
      "o|x|o\n",
      "o|x|o\n",
      "-+-+-\n",
      "x|x| \n",
      "-+-+-\n",
      "o|x|o\n",
      "o|x|o\n",
      "-+-+-\n",
      "x|x| \n",
      "-+-+-\n",
      "o|x|o\n"
     ]
    },
    {
     "ename": "KeyError",
     "evalue": "''",
     "output_type": "error",
     "traceback": [
      "\u001B[1;31m---------------------------------------------------------------------------\u001B[0m",
      "\u001B[1;31mKeyError\u001B[0m                                  Traceback (most recent call last)",
      "Input \u001B[1;32mIn [66]\u001B[0m, in \u001B[0;36m<cell line: 41>\u001B[1;34m()\u001B[0m\n\u001B[0;32m     38\u001B[0m         begin \u001B[38;5;241m=\u001B[39m choice \u001B[38;5;241m==\u001B[39m \u001B[38;5;124m'\u001B[39m\u001B[38;5;124myes\u001B[39m\u001B[38;5;124m'\u001B[39m\n\u001B[0;32m     41\u001B[0m \u001B[38;5;28;01mif\u001B[39;00m \u001B[38;5;18m__name__\u001B[39m \u001B[38;5;241m==\u001B[39m \u001B[38;5;124m'\u001B[39m\u001B[38;5;124m__main__\u001B[39m\u001B[38;5;124m'\u001B[39m:\n\u001B[1;32m---> 42\u001B[0m     \u001B[43mmain\u001B[49m\u001B[43m(\u001B[49m\u001B[43m)\u001B[49m\n",
      "Input \u001B[1;32mIn [66]\u001B[0m, in \u001B[0;36mmain\u001B[1;34m()\u001B[0m\n\u001B[0;32m     26\u001B[0m \u001B[38;5;28;01mwhile\u001B[39;00m counter \u001B[38;5;241m<\u001B[39m \u001B[38;5;241m9\u001B[39m:\n\u001B[0;32m     27\u001B[0m     move \u001B[38;5;241m=\u001B[39m \u001B[38;5;28minput\u001B[39m(\u001B[38;5;124m'\u001B[39m\u001B[38;5;124m轮到\u001B[39m\u001B[38;5;132;01m%s\u001B[39;00m\u001B[38;5;124m走棋, 请输入位置: \u001B[39m\u001B[38;5;124m'\u001B[39m \u001B[38;5;241m%\u001B[39m turn)\n\u001B[1;32m---> 28\u001B[0m     \u001B[38;5;28;01mif\u001B[39;00m \u001B[43mcurr_board\u001B[49m\u001B[43m[\u001B[49m\u001B[43mmove\u001B[49m\u001B[43m]\u001B[49m \u001B[38;5;241m==\u001B[39m \u001B[38;5;124m'\u001B[39m\u001B[38;5;124m \u001B[39m\u001B[38;5;124m'\u001B[39m:\n\u001B[0;32m     29\u001B[0m         counter \u001B[38;5;241m+\u001B[39m\u001B[38;5;241m=\u001B[39m \u001B[38;5;241m1\u001B[39m\n\u001B[0;32m     30\u001B[0m         curr_board[move] \u001B[38;5;241m=\u001B[39m turn\n",
      "\u001B[1;31mKeyError\u001B[0m: ''"
     ]
    }
   ],
   "source": [
    "import os\n",
    "\n",
    "\n",
    "def print_board(board):\n",
    "    print(board['TL'] + '|' + board['TM'] + '|' + board['TR'])\n",
    "    print('-+-+-')\n",
    "    print(board['ML'] + '|' + board['MM'] + '|' + board['MR'])\n",
    "    print('-+-+-')\n",
    "    print(board['BL'] + '|' + board['BM'] + '|' + board['BR'])\n",
    "\n",
    "\n",
    "def main():\n",
    "    init_board = {\n",
    "        'TL': ' ', 'TM': ' ', 'TR': ' ',\n",
    "        'ML': ' ', 'MM': ' ', 'MR': ' ',\n",
    "        'BL': ' ', 'BM': ' ', 'BR': ' '\n",
    "    }\n",
    "    begin = True\n",
    "    while begin:\n",
    "        curr_board = init_board.copy()\n",
    "        begin = False\n",
    "        turn = 'x'\n",
    "        counter = 0\n",
    "        os.system('clear')\n",
    "        print_board(curr_board)\n",
    "        while counter < 9:\n",
    "            move = input('轮到%s走棋, 请输入位置: ' % turn)\n",
    "            if curr_board[move] == ' ':\n",
    "                counter += 1\n",
    "                curr_board[move] = turn\n",
    "                if turn == 'x':\n",
    "                    turn = 'o'\n",
    "                else:\n",
    "                    turn = 'x'\n",
    "            os.system('clear')\n",
    "            print_board(curr_board)\n",
    "        choice = input('再玩一局?(yes|no)')\n",
    "        begin = choice == 'yes'\n",
    "\n",
    "\n",
    "if __name__ == '__main__':\n",
    "    main()"
   ],
   "metadata": {
    "collapsed": false,
    "ExecuteTime": {
     "end_time": "2023-08-06T21:01:37.112649300Z",
     "start_time": "2023-08-06T21:01:04.530983900Z"
    }
   }
  }
 ],
 "metadata": {
  "kernelspec": {
   "display_name": "Python 3",
   "language": "python",
   "name": "python3"
  },
  "language_info": {
   "codemirror_mode": {
    "name": "ipython",
    "version": 2
   },
   "file_extension": ".py",
   "mimetype": "text/x-python",
   "name": "python",
   "nbconvert_exporter": "python",
   "pygments_lexer": "ipython2",
   "version": "2.7.6"
  }
 },
 "nbformat": 4,
 "nbformat_minor": 0
}
