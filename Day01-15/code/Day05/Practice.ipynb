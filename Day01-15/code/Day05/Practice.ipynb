{
 "cells": [
  {
   "cell_type": "markdown",
   "source": [
    "生成斐波那契数列的前20个数。"
   ],
   "metadata": {
    "collapsed": false
   }
  },
  {
   "cell_type": "code",
   "execution_count": 6,
   "outputs": [
    {
     "name": "stdout",
     "output_type": "stream",
     "text": [
      "[1, 1, 2, 3, 5, 8, 13, 21, 34, 55, 89, 144, 233, 377, 610, 987, 1597, 2584, 4181, 6765, 10946]\n"
     ]
    }
   ],
   "source": [
    "import numpy as np\n",
    "counter, lst = 0, [1,1]\n",
    "\n",
    "while counter < 19:\n",
    "    counter += 1\n",
    "    lst.append(np.sum(lst[-2:]))\n",
    "\n",
    "print(lst)"
   ],
   "metadata": {
    "collapsed": false,
    "ExecuteTime": {
     "end_time": "2023-08-05T05:25:12.796452500Z",
     "start_time": "2023-08-05T05:25:12.781448900Z"
    }
   }
  },
  {
   "cell_type": "code",
   "execution_count": 58,
   "outputs": [
    {
     "name": "stdout",
     "output_type": "stream",
     "text": [
      "1 1 2 3 5 8 13 21 34 55 89 144 233 377 610 987 1597 2584 4181 6765 "
     ]
    }
   ],
   "source": [
    "a = 0\n",
    "b = 1\n",
    "for _ in range(20):\n",
    "    a, b = b, a + b\n",
    "    print(a, end=' ')\n"
   ],
   "metadata": {
    "collapsed": false,
    "ExecuteTime": {
     "end_time": "2023-08-05T07:19:34.265211600Z",
     "start_time": "2023-08-05T07:19:34.244201400Z"
    }
   }
  },
  {
   "cell_type": "markdown",
   "source": [
    "找出10000以内的完美数。说明：完美数又称为完全数或完备数，它的所有的真因子（即除了自身以外的因子）的和（即因子函数）恰好等于它本身。例如：6（$6=1+2+3$）和28（$28=1+2+4+7+14$）就是完美数。完美数有很多神奇的特性，有兴趣的可以自行了解。"
   ],
   "metadata": {
    "collapsed": false
   }
  },
  {
   "cell_type": "code",
   "execution_count": 57,
   "outputs": [
    {
     "name": "stdout",
     "output_type": "stream",
     "text": [
      "6\n",
      "28\n",
      "496\n",
      "8128\n"
     ]
    }
   ],
   "source": [
    "\"\"\"\n",
    "Efficient solution\n",
    "\n",
    "Go thru # from 1 to sqrt of n, if a # 'factor' divides num, then add both 'factor' and 'num / factor' to sum\n",
    "\n",
    "\"\"\"\n",
    "\n",
    "\n",
    "for num in range(6, 10_000):\n",
    "    # store the sum of divisors, 1 is definitely one, so we start from 2\n",
    "    sum = 1\n",
    "    # find all divisor and sum\n",
    "    i = 2\n",
    "    while i**2 <= num:\n",
    "        if num % i == 0:\n",
    "            sum += i+ num/i\n",
    "        i += 1\n",
    "\n",
    "    if sum == num:\n",
    "        print(num)"
   ],
   "metadata": {
    "collapsed": false,
    "ExecuteTime": {
     "end_time": "2023-08-05T07:05:59.750085400Z",
     "start_time": "2023-08-05T07:05:59.462919600Z"
    }
   }
  },
  {
   "cell_type": "code",
   "execution_count": 31,
   "outputs": [
    {
     "name": "stdout",
     "output_type": "stream",
     "text": [
      "6\n",
      "28\n",
      "496\n",
      "8128\n"
     ]
    }
   ],
   "source": [
    "\"\"\"\n",
    "Efficient solution\n",
    "\n",
    "Go thru # from 1 to sqrt of n, if a # 'factor' divides num, then add both 'factor' and 'num / factor' to sum\n",
    "\n",
    "\"\"\"\n",
    "\n",
    "import math\n",
    "\n",
    "for num in range(6, 10000):\n",
    "    result = 0\n",
    "    for factor in range(1, int(math.sqrt(num)) + 1):\n",
    "        if num % factor == 0:\n",
    "            result += factor\n",
    "            if factor > 1 and num // factor != factor:\n",
    "                result += num // factor\n",
    "    if result == num:\n",
    "        print(num)\n"
   ],
   "metadata": {
    "collapsed": false,
    "ExecuteTime": {
     "end_time": "2023-08-05T06:38:47.426265200Z",
     "start_time": "2023-08-05T06:38:47.311076600Z"
    }
   }
  },
  {
   "cell_type": "markdown",
   "source": [
    "输出100以内所有的素数。"
   ],
   "metadata": {
    "collapsed": false
   }
  },
  {
   "cell_type": "code",
   "execution_count": 60,
   "outputs": [
    {
     "data": {
      "text/plain": "[2,\n 3,\n 5,\n 7,\n 11,\n 13,\n 17,\n 19,\n 23,\n 29,\n 31,\n 37,\n 41,\n 43,\n 47,\n 53,\n 59,\n 61,\n 67,\n 71,\n 73,\n 79,\n 83,\n 89,\n 97]"
     },
     "execution_count": 60,
     "metadata": {},
     "output_type": "execute_result"
    }
   ],
   "source": [
    "lst1 = list(range(2, 100))\n",
    "\n",
    "for num in range(2, 100):\n",
    "   #is_prime = True\n",
    "\n",
    "   for x in range(2, int(np.sqrt(num)) +1):\n",
    "       if num % x == 0:\n",
    "           #is_prime = False\n",
    "           # some number has been removed already, so when happens again, just ignore\n",
    "           try:\n",
    "            lst1.remove(num)\n",
    "           except ValueError:\n",
    "               continue\n",
    "\n",
    "lst1"
   ],
   "metadata": {
    "collapsed": false,
    "ExecuteTime": {
     "end_time": "2023-08-05T07:22:24.726106400Z",
     "start_time": "2023-08-05T07:22:24.706102300Z"
    }
   }
  },
  {
   "cell_type": "code",
   "execution_count": 61,
   "outputs": [
    {
     "data": {
      "text/plain": "[2,\n 3,\n 5,\n 7,\n 11,\n 13,\n 17,\n 19,\n 23,\n 29,\n 31,\n 37,\n 41,\n 43,\n 47,\n 53,\n 59,\n 61,\n 67,\n 71,\n 73,\n 79,\n 83,\n 89,\n 97]"
     },
     "execution_count": 61,
     "metadata": {},
     "output_type": "execute_result"
    }
   ],
   "source": [
    "lst2 = []\n",
    "\n",
    "for num in range(2, 100):\n",
    "    is_prime = True\n",
    "\n",
    "    for x in range(2, int(np.sqrt(num))+1):\n",
    "        if num % x == 0:\n",
    "            is_prime = False\n",
    "            break\n",
    "    if is_prime:\n",
    "        lst2.append(num)\n",
    "\n",
    "lst2"
   ],
   "metadata": {
    "collapsed": false,
    "ExecuteTime": {
     "end_time": "2023-08-05T07:22:27.569749900Z",
     "start_time": "2023-08-05T07:22:27.538743900Z"
    }
   }
  },
  {
   "cell_type": "code",
   "execution_count": null,
   "outputs": [],
   "source": [],
   "metadata": {
    "collapsed": false
   }
  }
 ],
 "metadata": {
  "kernelspec": {
   "display_name": "Python 3",
   "language": "python",
   "name": "python3"
  },
  "language_info": {
   "codemirror_mode": {
    "name": "ipython",
    "version": 2
   },
   "file_extension": ".py",
   "mimetype": "text/x-python",
   "name": "python",
   "nbconvert_exporter": "python",
   "pygments_lexer": "ipython2",
   "version": "2.7.6"
  }
 },
 "nbformat": 4,
 "nbformat_minor": 0
}
